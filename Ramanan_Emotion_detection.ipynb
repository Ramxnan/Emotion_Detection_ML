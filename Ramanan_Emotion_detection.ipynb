{
 "cells": [
  {
   "cell_type": "markdown",
   "metadata": {},
   "source": [
    "# Toronto emotion speech set (TESS)\n",
    "#### Ramanan R\n",
    "#### ramanan.palur@gmail.com\n",
    "##### -------------------------------------------------------------------"
   ]
  },
  {
   "cell_type": "markdown",
   "metadata": {},
   "source": [
    "## MFCC feature extraction for TESS and storing it in a dataframe"
   ]
  },
  {
   "cell_type": "code",
   "execution_count": 1,
   "metadata": {},
   "outputs": [
    {
     "name": "stderr",
     "output_type": "stream",
     "text": [
      "c:\\Users\\raman\\anaconda3\\lib\\site-packages\\numpy\\_distributor_init.py:30: UserWarning: loaded more than 1 DLL from .libs:\n",
      "c:\\Users\\raman\\anaconda3\\lib\\site-packages\\numpy\\.libs\\libopenblas.GK7GX5KEQ4F6UYO3P26ULGBQYHGQO7J4.gfortran-win_amd64.dll\n",
      "c:\\Users\\raman\\anaconda3\\lib\\site-packages\\numpy\\.libs\\libopenblas.XWYDX2IKJW2NMTWSFYNGFUWKQU3LYTCZ.gfortran-win_amd64.dll\n",
      "  warnings.warn(\"loaded more than 1 DLL from .libs:\"\n"
     ]
    }
   ],
   "source": [
    "import pandas as pd # import the necessary modules\n",
    "import numpy as np \n",
    "import os\n",
    "import librosa\n",
    "import librosa.feature\n",
    "\n",
    "def extract_feature(file_name, mfcc, chroma, mel): # function to extract the features\n",
    "    X, sample_rate = librosa.load(os.path.join(file_name), res_type='kaiser_fast') # load the audio file\n",
    "    if chroma: # if the chroma is true\n",
    "        stft=np.abs(librosa.stft(X)) # compute the STFT\n",
    "    result=np.array([]) # create an empty array\n",
    "    if mfcc: # if the mfcc is true\n",
    "        mfccs=np.mean(librosa.feature.mfcc(y=X, sr=sample_rate, n_mfcc=40).T, axis=0) # compute the MFCCs\n",
    "        result=np.hstack((result, mfccs)) # concatenate the MFCCs\n",
    "    if chroma: # if the chroma is true\n",
    "        chroma=np.mean(librosa.feature.chroma_stft(S=stft, sr=sample_rate).T,axis=0) # compute the chroma features\n",
    "        result=np.hstack((result, chroma)) # concatenate the chroma features\n",
    "    if mel: # if the mel is true\n",
    "        mel=np.mean(librosa.feature.melspectrogram(y=X, sr=sample_rate).T,axis=0) # compute the mel features\n",
    "        result=np.hstack((result, mel)) # concatenate the mel features\n",
    "    return result # return the result"
   ]
  },
  {
   "cell_type": "code",
   "execution_count": 2,
   "metadata": {},
   "outputs": [],
   "source": [
    "import os # import the necessary modules\n",
    "path='E:\\\\Projects\\\\Emotion_Detection\\\\TESS Toronto emotional speech set data\\\\' # set the path\n",
    "df=pd.DataFrame(columns=[f'mfcc {i}' for i in range(0,180)]) # create a dataframe with the columns\n",
    "for file in os.listdir(path): # for each file in the path\n",
    "    for filename in os.listdir(path+file): # for each file in the path\n",
    "        f=path+file+\"\\\\\"+filename # set the file path\n",
    "        feature=extract_feature(f, True, True, True) # extract the features\n",
    "        feature=feature.reshape(1, -1) # reshape the feature \n",
    "        df_temp=pd.DataFrame(feature,columns=[f'mfcc {i}' for i in range(len(feature[0]))]) # create a dataframe with the features\n",
    "        df_temp['label'] = f.split('_')[-1].split('.')[0] # set the label\n",
    "        df=pd.concat([df, df_temp]) # concatenate the dataframe\n",
    "df.to_excel('E:\\\\Projects\\\\Emotion_Detection\\\\data.xlsx', index=False) # save the dataframe to an excel file"
   ]
  },
  {
   "cell_type": "markdown",
   "metadata": {},
   "source": [
    "## Data visualizatiom"
   ]
  },
  {
   "cell_type": "code",
   "execution_count": 3,
   "metadata": {},
   "outputs": [
    {
     "name": "stdout",
     "output_type": "stream",
     "text": [
      "angry      400\n",
      "disgust    400\n",
      "fear       400\n",
      "happy      400\n",
      "neutral    400\n",
      "ps         400\n",
      "sad        400\n",
      "Name: label, dtype: int64\n"
     ]
    }
   ],
   "source": [
    "print(df['label'].value_counts()) # print the label counts"
   ]
  },
  {
   "cell_type": "code",
   "execution_count": 4,
   "metadata": {},
   "outputs": [
    {
     "data": {
      "text/html": [
       "<div>\n",
       "<style scoped>\n",
       "    .dataframe tbody tr th:only-of-type {\n",
       "        vertical-align: middle;\n",
       "    }\n",
       "\n",
       "    .dataframe tbody tr th {\n",
       "        vertical-align: top;\n",
       "    }\n",
       "\n",
       "    .dataframe thead th {\n",
       "        text-align: right;\n",
       "    }\n",
       "</style>\n",
       "<table border=\"1\" class=\"dataframe\">\n",
       "  <thead>\n",
       "    <tr style=\"text-align: right;\">\n",
       "      <th></th>\n",
       "      <th>mfcc 0</th>\n",
       "      <th>mfcc 1</th>\n",
       "      <th>mfcc 2</th>\n",
       "      <th>mfcc 3</th>\n",
       "      <th>mfcc 4</th>\n",
       "      <th>mfcc 5</th>\n",
       "      <th>mfcc 6</th>\n",
       "      <th>mfcc 7</th>\n",
       "      <th>mfcc 8</th>\n",
       "      <th>mfcc 9</th>\n",
       "      <th>...</th>\n",
       "      <th>mfcc 171</th>\n",
       "      <th>mfcc 172</th>\n",
       "      <th>mfcc 173</th>\n",
       "      <th>mfcc 174</th>\n",
       "      <th>mfcc 175</th>\n",
       "      <th>mfcc 176</th>\n",
       "      <th>mfcc 177</th>\n",
       "      <th>mfcc 178</th>\n",
       "      <th>mfcc 179</th>\n",
       "      <th>label</th>\n",
       "    </tr>\n",
       "  </thead>\n",
       "  <tbody>\n",
       "    <tr>\n",
       "      <th>count</th>\n",
       "      <td>2800.000000</td>\n",
       "      <td>2800.000000</td>\n",
       "      <td>2800.000000</td>\n",
       "      <td>2800.000000</td>\n",
       "      <td>2800.000000</td>\n",
       "      <td>2800.000000</td>\n",
       "      <td>2800.000000</td>\n",
       "      <td>2800.000000</td>\n",
       "      <td>2800.000000</td>\n",
       "      <td>2800.000000</td>\n",
       "      <td>...</td>\n",
       "      <td>2800.000000</td>\n",
       "      <td>2800.000000</td>\n",
       "      <td>2800.000000</td>\n",
       "      <td>2800.000000</td>\n",
       "      <td>2800.000000</td>\n",
       "      <td>2800.000000</td>\n",
       "      <td>2800.000000</td>\n",
       "      <td>2.800000e+03</td>\n",
       "      <td>2.800000e+03</td>\n",
       "      <td>2800</td>\n",
       "    </tr>\n",
       "    <tr>\n",
       "      <th>unique</th>\n",
       "      <td>2800.000000</td>\n",
       "      <td>2800.000000</td>\n",
       "      <td>2800.000000</td>\n",
       "      <td>2800.000000</td>\n",
       "      <td>2799.000000</td>\n",
       "      <td>2800.000000</td>\n",
       "      <td>2800.000000</td>\n",
       "      <td>2800.000000</td>\n",
       "      <td>2800.000000</td>\n",
       "      <td>2800.000000</td>\n",
       "      <td>...</td>\n",
       "      <td>2800.000000</td>\n",
       "      <td>2800.000000</td>\n",
       "      <td>2800.000000</td>\n",
       "      <td>2800.000000</td>\n",
       "      <td>2800.000000</td>\n",
       "      <td>2800.000000</td>\n",
       "      <td>2800.000000</td>\n",
       "      <td>2.800000e+03</td>\n",
       "      <td>2.800000e+03</td>\n",
       "      <td>7</td>\n",
       "    </tr>\n",
       "    <tr>\n",
       "      <th>top</th>\n",
       "      <td>-387.356445</td>\n",
       "      <td>58.005249</td>\n",
       "      <td>-23.070848</td>\n",
       "      <td>-6.495008</td>\n",
       "      <td>-15.636605</td>\n",
       "      <td>12.378984</td>\n",
       "      <td>-29.642843</td>\n",
       "      <td>-2.723384</td>\n",
       "      <td>-13.955122</td>\n",
       "      <td>0.218171</td>\n",
       "      <td>...</td>\n",
       "      <td>0.000275</td>\n",
       "      <td>0.000198</td>\n",
       "      <td>0.000106</td>\n",
       "      <td>0.000062</td>\n",
       "      <td>0.000041</td>\n",
       "      <td>0.000011</td>\n",
       "      <td>0.000003</td>\n",
       "      <td>4.914490e-07</td>\n",
       "      <td>6.342619e-08</td>\n",
       "      <td>angry</td>\n",
       "    </tr>\n",
       "    <tr>\n",
       "      <th>freq</th>\n",
       "      <td>1.000000</td>\n",
       "      <td>1.000000</td>\n",
       "      <td>1.000000</td>\n",
       "      <td>1.000000</td>\n",
       "      <td>2.000000</td>\n",
       "      <td>1.000000</td>\n",
       "      <td>1.000000</td>\n",
       "      <td>1.000000</td>\n",
       "      <td>1.000000</td>\n",
       "      <td>1.000000</td>\n",
       "      <td>...</td>\n",
       "      <td>1.000000</td>\n",
       "      <td>1.000000</td>\n",
       "      <td>1.000000</td>\n",
       "      <td>1.000000</td>\n",
       "      <td>1.000000</td>\n",
       "      <td>1.000000</td>\n",
       "      <td>1.000000</td>\n",
       "      <td>1.000000e+00</td>\n",
       "      <td>1.000000e+00</td>\n",
       "      <td>400</td>\n",
       "    </tr>\n",
       "  </tbody>\n",
       "</table>\n",
       "<p>4 rows × 181 columns</p>\n",
       "</div>"
      ],
      "text/plain": [
       "             mfcc 0       mfcc 1       mfcc 2       mfcc 3       mfcc 4  \\\n",
       "count   2800.000000  2800.000000  2800.000000  2800.000000  2800.000000   \n",
       "unique  2800.000000  2800.000000  2800.000000  2800.000000  2799.000000   \n",
       "top     -387.356445    58.005249   -23.070848    -6.495008   -15.636605   \n",
       "freq       1.000000     1.000000     1.000000     1.000000     2.000000   \n",
       "\n",
       "             mfcc 5       mfcc 6       mfcc 7       mfcc 8       mfcc 9  ...  \\\n",
       "count   2800.000000  2800.000000  2800.000000  2800.000000  2800.000000  ...   \n",
       "unique  2800.000000  2800.000000  2800.000000  2800.000000  2800.000000  ...   \n",
       "top       12.378984   -29.642843    -2.723384   -13.955122     0.218171  ...   \n",
       "freq       1.000000     1.000000     1.000000     1.000000     1.000000  ...   \n",
       "\n",
       "           mfcc 171     mfcc 172     mfcc 173     mfcc 174     mfcc 175  \\\n",
       "count   2800.000000  2800.000000  2800.000000  2800.000000  2800.000000   \n",
       "unique  2800.000000  2800.000000  2800.000000  2800.000000  2800.000000   \n",
       "top        0.000275     0.000198     0.000106     0.000062     0.000041   \n",
       "freq       1.000000     1.000000     1.000000     1.000000     1.000000   \n",
       "\n",
       "           mfcc 176     mfcc 177      mfcc 178      mfcc 179  label  \n",
       "count   2800.000000  2800.000000  2.800000e+03  2.800000e+03   2800  \n",
       "unique  2800.000000  2800.000000  2.800000e+03  2.800000e+03      7  \n",
       "top        0.000011     0.000003  4.914490e-07  6.342619e-08  angry  \n",
       "freq       1.000000     1.000000  1.000000e+00  1.000000e+00    400  \n",
       "\n",
       "[4 rows x 181 columns]"
      ]
     },
     "execution_count": 4,
     "metadata": {},
     "output_type": "execute_result"
    }
   ],
   "source": [
    "df.describe() # print the description of the dataframe"
   ]
  },
  {
   "cell_type": "markdown",
   "metadata": {},
   "source": [
    "## Splitting the data into training and testing sets"
   ]
  },
  {
   "cell_type": "code",
   "execution_count": 5,
   "metadata": {},
   "outputs": [],
   "source": [
    "from sklearn.model_selection import train_test_split\n",
    "train_x, test_x, train_y, test_y = train_test_split(df.drop('label', axis=1), df['label'], test_size=0.1, random_state=42)"
   ]
  },
  {
   "cell_type": "markdown",
   "metadata": {},
   "source": [
    "## Random Forest Classification"
   ]
  },
  {
   "cell_type": "code",
   "execution_count": 6,
   "metadata": {},
   "outputs": [
    {
     "name": "stdout",
     "output_type": "stream",
     "text": [
      "              precision    recall  f1-score   support\n",
      "\n",
      "       angry       1.00      1.00      1.00        42\n",
      "     disgust       1.00      1.00      1.00        30\n",
      "        fear       1.00      1.00      1.00        38\n",
      "       happy       1.00      0.97      0.99        39\n",
      "     neutral       1.00      1.00      1.00        41\n",
      "          ps       0.98      1.00      0.99        44\n",
      "         sad       1.00      1.00      1.00        46\n",
      "\n",
      "    accuracy                           1.00       280\n",
      "   macro avg       1.00      1.00      1.00       280\n",
      "weighted avg       1.00      1.00      1.00       280\n",
      "\n"
     ]
    }
   ],
   "source": [
    "from sklearn.metrics import classification_report\n",
    "from sklearn.metrics import accuracy_score\n",
    "from sklearn.ensemble import RandomForestClassifier\n",
    "RFmodel = RandomForestClassifier(n_estimators=100, random_state=42)\n",
    "RFmodel.fit(train_x, train_y)\n",
    "pred = RFmodel.predict(test_x)\n",
    "print(classification_report(test_y, pred))\n",
    "RFaccuracy = accuracy_score(test_y, pred)"
   ]
  },
  {
   "cell_type": "markdown",
   "metadata": {},
   "source": [
    "## Decision Tree Classification"
   ]
  },
  {
   "cell_type": "code",
   "execution_count": 7,
   "metadata": {},
   "outputs": [
    {
     "name": "stdout",
     "output_type": "stream",
     "text": [
      "              precision    recall  f1-score   support\n",
      "\n",
      "       angry       0.89      0.81      0.85        42\n",
      "     disgust       0.96      0.87      0.91        30\n",
      "        fear       0.92      0.89      0.91        38\n",
      "       happy       0.82      0.85      0.84        39\n",
      "     neutral       1.00      0.98      0.99        41\n",
      "          ps       0.85      0.91      0.88        44\n",
      "         sad       0.90      1.00      0.95        46\n",
      "\n",
      "    accuracy                           0.90       280\n",
      "   macro avg       0.91      0.90      0.90       280\n",
      "weighted avg       0.91      0.90      0.90       280\n",
      "\n"
     ]
    }
   ],
   "source": [
    "#import decision tree\n",
    "from sklearn.tree import DecisionTreeClassifier\n",
    "DTmodel = DecisionTreeClassifier(random_state=42)\n",
    "DTmodel.fit(train_x, train_y)\n",
    "pred = DTmodel.predict(test_x)\n",
    "print(classification_report(test_y, pred))\n",
    "DFaccuracy = accuracy_score(test_y, pred)"
   ]
  },
  {
   "cell_type": "markdown",
   "metadata": {},
   "source": [
    "## Naive bayes"
   ]
  },
  {
   "cell_type": "code",
   "execution_count": 8,
   "metadata": {},
   "outputs": [
    {
     "name": "stdout",
     "output_type": "stream",
     "text": [
      "              precision    recall  f1-score   support\n",
      "\n",
      "       angry       1.00      0.95      0.98        42\n",
      "     disgust       0.41      0.83      0.55        30\n",
      "        fear       0.97      0.92      0.95        38\n",
      "       happy       1.00      0.51      0.68        39\n",
      "     neutral       1.00      0.98      0.99        41\n",
      "          ps       0.75      0.41      0.53        44\n",
      "         sad       0.78      1.00      0.88        46\n",
      "\n",
      "    accuracy                           0.80       280\n",
      "   macro avg       0.84      0.80      0.79       280\n",
      "weighted avg       0.86      0.80      0.80       280\n",
      "\n"
     ]
    }
   ],
   "source": [
    "#import naive bayes\n",
    "from sklearn.naive_bayes import GaussianNB\n",
    "NBmodel = GaussianNB()\n",
    "NBmodel.fit(train_x, train_y)\n",
    "pred = NBmodel.predict(test_x)\n",
    "print(classification_report(test_y, pred))\n",
    "NBaccuracy = accuracy_score(test_y, pred)"
   ]
  },
  {
   "cell_type": "markdown",
   "metadata": {},
   "source": [
    "## Multilayer Perceptron"
   ]
  },
  {
   "cell_type": "code",
   "execution_count": 9,
   "metadata": {},
   "outputs": [
    {
     "name": "stdout",
     "output_type": "stream",
     "text": [
      "              precision    recall  f1-score   support\n",
      "\n",
      "       angry       1.00      0.98      0.99        42\n",
      "     disgust       1.00      1.00      1.00        30\n",
      "        fear       1.00      1.00      1.00        38\n",
      "       happy       0.97      0.97      0.97        39\n",
      "     neutral       1.00      1.00      1.00        41\n",
      "          ps       0.98      1.00      0.99        44\n",
      "         sad       1.00      1.00      1.00        46\n",
      "\n",
      "    accuracy                           0.99       280\n",
      "   macro avg       0.99      0.99      0.99       280\n",
      "weighted avg       0.99      0.99      0.99       280\n",
      "\n"
     ]
    }
   ],
   "source": [
    "from sklearn.neural_network import MLPClassifier\n",
    "model=MLPClassifier(alpha=0.01, batch_size=256, epsilon=1e-08, hidden_layer_sizes=(300,), learning_rate='adaptive', max_iter=500)\n",
    "model.fit(train_x, train_y)\n",
    "pred=model.predict(test_x)\n",
    "print(classification_report(test_y, pred))\n",
    "MLPaccuracy=accuracy_score(test_y, pred)"
   ]
  },
  {
   "cell_type": "markdown",
   "metadata": {},
   "source": [
    "## Accuracy analysis"
   ]
  },
  {
   "cell_type": "code",
   "execution_count": 10,
   "metadata": {},
   "outputs": [
    {
     "name": "stdout",
     "output_type": "stream",
     "text": [
      "Random Forest Accuracy: 99.643%\n",
      "Decision Tree Accuracy: 90.357%\n",
      "Naive Bayes Accuracy: 80.0%\n",
      "MLP Accuracy: 99.286%\n"
     ]
    }
   ],
   "source": [
    "print(f\"Random Forest Accuracy: {round(RFaccuracy*100,3)}%\")\n",
    "print(f\"Decision Tree Accuracy: {round(DFaccuracy*100,3)}%\")\n",
    "print(f\"Naive Bayes Accuracy: {round(NBaccuracy*100,3)}%\")\n",
    "print(f\"MLP Accuracy: {round(MLPaccuracy*100,3)}%\")\n"
   ]
  }
 ],
 "metadata": {
  "kernelspec": {
   "display_name": "Python 3.8.12 ('base')",
   "language": "python",
   "name": "python3"
  },
  "language_info": {
   "codemirror_mode": {
    "name": "ipython",
    "version": 3
   },
   "file_extension": ".py",
   "mimetype": "text/x-python",
   "name": "python",
   "nbconvert_exporter": "python",
   "pygments_lexer": "ipython3",
   "version": "3.8.12"
  },
  "orig_nbformat": 4,
  "vscode": {
   "interpreter": {
    "hash": "f809bf94e29cee2d7935c4f29b9a3ae08e0707af3b5b65c6833e6a437508cc17"
   }
  }
 },
 "nbformat": 4,
 "nbformat_minor": 2
}
